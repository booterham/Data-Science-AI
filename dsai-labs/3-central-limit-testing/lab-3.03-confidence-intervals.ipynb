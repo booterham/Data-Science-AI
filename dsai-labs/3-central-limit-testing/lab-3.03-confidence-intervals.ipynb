{
  "cells": [
    {
      "cell_type": "markdown",
      "metadata": {
        "id": "M179_lET0jSn"
      },
      "source": [
        "# Lab 3.03 - Confidence intervals\n"
      ]
    },
    {
      "cell_type": "code",
      "execution_count": 8,
      "metadata": {},
      "outputs": [],
      "source": [
        "# Package imports\n",
        "import numpy as np                                  # \"Scientific computing\"\n",
        "import scipy.stats as stats                         # Statistical tests\n",
        "\n",
        "import pandas as pd                                 # Data Frame\n",
        "from pandas.api.types import CategoricalDtype\n",
        "\n",
        "import matplotlib.pyplot as plt                     # Basic visualisation\n",
        "from statsmodels.graphics.mosaicplot import mosaic  # Mosaic diagram\n",
        "import seaborn as sns                               # Advanced data visualisation\n",
        "from fractions import Fraction\n",
        "bakermiller = \"#FF91AF\"# Package Imports"
      ]
    },
    {
      "cell_type": "markdown",
      "metadata": {
        "id": "c0Q7INQrFUZK"
      },
      "source": [
        "## Exercise 1 - rlanders\n",
        "\n",
        "Load the dataset data/rlanders.csv. Use the column Money.  \n",
        "We assume that the values from this sample are normally distributed around a population mean $\\mu$ that is unknown, but that the standard deviation of the population is known, i.e. $\\sigma = 98$.\n"
      ]
    },
    {
      "cell_type": "code",
      "execution_count": 9,
      "metadata": {
        "colab": {
          "base_uri": "https://localhost:8080/",
          "height": 206
        },
        "id": "X8SWRipx3I9_",
        "outputId": "90a9819a-4e5a-4a35-ed25-233824cd0809"
      },
      "outputs": [
        {
          "data": {
            "text/html": [
              "<div>\n",
              "<style scoped>\n",
              "    .dataframe tbody tr th:only-of-type {\n",
              "        vertical-align: middle;\n",
              "    }\n",
              "\n",
              "    .dataframe tbody tr th {\n",
              "        vertical-align: top;\n",
              "    }\n",
              "\n",
              "    .dataframe thead th {\n",
              "        text-align: right;\n",
              "    }\n",
              "</style>\n",
              "<table border=\"1\" class=\"dataframe\">\n",
              "  <thead>\n",
              "    <tr style=\"text-align: right;\">\n",
              "      <th></th>\n",
              "      <th>Gender</th>\n",
              "      <th>Money</th>\n",
              "      <th>Days</th>\n",
              "      <th>Months</th>\n",
              "      <th>Count</th>\n",
              "      <th>Survey</th>\n",
              "    </tr>\n",
              "    <tr>\n",
              "      <th>ID</th>\n",
              "      <th></th>\n",
              "      <th></th>\n",
              "      <th></th>\n",
              "      <th></th>\n",
              "      <th></th>\n",
              "      <th></th>\n",
              "    </tr>\n",
              "  </thead>\n",
              "  <tbody>\n",
              "    <tr>\n",
              "      <th>1</th>\n",
              "      <td>Female</td>\n",
              "      <td>440</td>\n",
              "      <td>29</td>\n",
              "      <td>11</td>\n",
              "      <td>35</td>\n",
              "      <td>3</td>\n",
              "    </tr>\n",
              "    <tr>\n",
              "      <th>2</th>\n",
              "      <td>Female</td>\n",
              "      <td>503</td>\n",
              "      <td>23</td>\n",
              "      <td>10</td>\n",
              "      <td>52</td>\n",
              "      <td>3</td>\n",
              "    </tr>\n",
              "    <tr>\n",
              "      <th>3</th>\n",
              "      <td>Male</td>\n",
              "      <td>412</td>\n",
              "      <td>16</td>\n",
              "      <td>11</td>\n",
              "      <td>55</td>\n",
              "      <td>3</td>\n",
              "    </tr>\n",
              "    <tr>\n",
              "      <th>4</th>\n",
              "      <td>Male</td>\n",
              "      <td>587</td>\n",
              "      <td>25</td>\n",
              "      <td>9</td>\n",
              "      <td>28</td>\n",
              "      <td>5</td>\n",
              "    </tr>\n",
              "    <tr>\n",
              "      <th>5</th>\n",
              "      <td>Male</td>\n",
              "      <td>525</td>\n",
              "      <td>30</td>\n",
              "      <td>11</td>\n",
              "      <td>41</td>\n",
              "      <td>4</td>\n",
              "    </tr>\n",
              "  </tbody>\n",
              "</table>\n",
              "</div>"
            ],
            "text/plain": [
              "    Gender  Money  Days  Months  Count  Survey\n",
              "ID                                            \n",
              "1   Female    440    29      11     35       3\n",
              "2   Female    503    23      10     52       3\n",
              "3     Male    412    16      11     55       3\n",
              "4     Male    587    25       9     28       5\n",
              "5     Male    525    30      11     41       4"
            ]
          },
          "execution_count": 9,
          "metadata": {},
          "output_type": "execute_result"
        }
      ],
      "source": [
        "df = pd.read_csv('https://raw.githubusercontent.com/HoGentTIN/dsai-en-labs/main/data/rlanders.csv').set_index(['ID'])\n",
        "# Show the first few records of the Data Frame\n",
        "df.head()"
      ]
    },
    {
      "cell_type": "markdown",
      "metadata": {
        "id": "micQS-lB-91P"
      },
      "source": [
        "Calculate a 99% confidence interval for the population mean (Answer: [484.191, 516.121])."
      ]
    },
    {
      "cell_type": "code",
      "execution_count": 12,
      "metadata": {
        "id": "9fpkhHkK5W4n"
      },
      "outputs": [
        {
          "name": "stdout",
          "output_type": "stream",
          "text": [
            "Lower bound: 484.191, upper bound: 516.121\n"
          ]
        }
      ],
      "source": [
        "alpha99 = 1 - 0.99\n",
        "m = df.Money.mean()\n",
        "s = 98\n",
        "n = len(df)\n",
        "interval99 = stats.norm.interval(1-alpha99, loc=m, scale=s/np.sqrt(n))\n",
        "print(f\"For 99 CI: Lower bound: {interval99[0]:.3f}, upper bound: {interval99[1]:.3f}\")"
      ]
    },
    {
      "cell_type": "markdown",
      "metadata": {
        "id": "ECERz_63_By6"
      },
      "source": [
        "Calculate a 95% confidence interval for the population mean. (Answer =  [488.008, 512.304])"
      ]
    },
    {
      "cell_type": "code",
      "execution_count": 15,
      "metadata": {
        "id": "QN2HodqW-aOS"
      },
      "outputs": [
        {
          "name": "stdout",
          "output_type": "stream",
          "text": [
            "For 95 CI: Lower bound: 488.008, upper bound: 512.304\n"
          ]
        }
      ],
      "source": [
        "alpha95 = 1-0.95\n",
        "interval95 = stats.norm.interval(1-alpha95, loc=m, scale=s/np.sqrt(n))\n",
        "print(f\"For 95 CI: Lower bound: {interval95[0]:.3f}, upper bound: {interval95[1]:.3f}\")"
      ]
    },
    {
      "cell_type": "markdown",
      "metadata": {
        "id": "T_tvkbrf_InR"
      },
      "source": [
        "Suppose σ is unknown, calculate a 95% confidence interval for the population mean. (Answer = [487.319, 512.993])"
      ]
    },
    {
      "cell_type": "code",
      "execution_count": 26,
      "metadata": {
        "id": "NHUe10TR_H-I"
      },
      "outputs": [
        {
          "name": "stdout",
          "output_type": "stream",
          "text": [
            "[487.319, 512.993]\n"
          ]
        }
      ],
      "source": [
        "s = np.std(df.Money, ddof=1)      # sample standard deviation (ddof=1 is critical!)\n",
        "print(f\"[{stats.t.interval(0.95, df=n-1, loc=m, scale=s/np.sqrt(n))[0]:.3f}, {stats.t.interval(0.95, df=n-1, loc=m, scale=s/np.sqrt(n))[1]:.3f}]\")"
      ]
    },
    {
      "cell_type": "markdown",
      "metadata": {
        "id": "OPNlp4TS_nU3"
      },
      "source": [
        "Finally, suppose the sample consists of only the first 25 observations in this dataset. Calculate a 95% confidence interval for this situation.  \n",
        "(Answer = [450.291,536.669])"
      ]
    },
    {
      "cell_type": "code",
      "execution_count": 29,
      "metadata": {
        "id": "5_73IDTY_sgO"
      },
      "outputs": [
        {
          "name": "stdout",
          "output_type": "stream",
          "text": [
            "[450.291, 536.669]\n"
          ]
        }
      ],
      "source": [
        "samples = df.Money.head(25)\n",
        "n = len(samples)\n",
        "mean = np.mean(samples)\n",
        "s = np.std(samples, ddof=1)\n",
        "sample_error = s/np.sqrt(n)\n",
        "\n",
        "print(f\"[{stats.t.interval(0.95, df=n-1, loc=mean, scale=sample_error)[0]:.3f}, {stats.t.interval(0.95, df=n-1, loc=mean, scale=sample_error)[1]:.3f}]\")"
      ]
    },
    {
      "cell_type": "markdown",
      "metadata": {},
      "source": [
        "## Exercise 2\n",
        "\n",
        "1. How do you calculate the upper and lower limits of a 95% and 99% confidence interval?\n",
        "   Bepaal eerst de z-score die hoort bij het betrouwbaarheidsniveau (bijvoorbeeld 1.96 voor 95% of 2.576 voor 99%). Vermenigvuldig deze met de standaardfout σnn​. Trek deze waarde af van het gemiddelde voor de ondergrens en tel het op bij het gemiddelde voor de bovengrens\n",
        "2. A 99% confidence interval is [wider/narrower/the same width] as a 95% confidence interval. Why?\n",
        "   99% confidence interval is wider. Since 99% of all replicated samples should contain the real mean, this interval will be wider than the 95% interval.\n",
        "3. What would a 100% confidence interval look like?\n",
        "   The collection of all real numbers."
      ]
    }
  ],
  "metadata": {
    "colab": {
      "collapsed_sections": [],
      "name": "lab-3-01.ipynb",
      "provenance": []
    },
    "kernelspec": {
      "display_name": ".venv",
      "language": "python",
      "name": "python3"
    },
    "language_info": {
      "codemirror_mode": {
        "name": "ipython",
        "version": 3
      },
      "file_extension": ".py",
      "mimetype": "text/x-python",
      "name": "python",
      "nbconvert_exporter": "python",
      "pygments_lexer": "ipython3",
      "version": "3.13.3"
    },
    "orig_nbformat": 4
  },
  "nbformat": 4,
  "nbformat_minor": 0
}

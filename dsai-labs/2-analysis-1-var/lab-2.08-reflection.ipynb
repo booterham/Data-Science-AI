{
 "cells": [
  {
   "cell_type": "code",
   "execution_count": 19,
   "metadata": {},
   "outputs": [],
   "source": [
    "import numpy as np"
   ]
  },
  {
   "attachments": {},
   "cell_type": "markdown",
   "metadata": {},
   "source": [
    "# Lab 2.08 - Univariate Analysis: Reflection exercises\n",
    "\n",
    "## Exercise 8.1 - retrieval practice: analysis of 1 variable\n",
    "\n",
    "Use the procedure for retrieval practice from the similar exercises in Module 1 to study the techniques for analysis and visualization of a single variable.\n",
    "\n",
    "For each measurement level, provide:\n",
    "\n",
    "- The appropriate measures for central tendency and dispersion (name, definitions and formulas)\n",
    "- The appropriate graph types"
   ]
  },
  {
   "cell_type": "markdown",
   "metadata": {},
   "source": [
    "||Qualitative|Quantitative|\n",
    "|-|-|-|\n",
    "|**Measures for central tendency and dispersion**|Arythmic median, mean<br>min, max, q1, q3, IQR range|Median, mode<br>No dispersion options|\n",
    "|**graph types**|bar chart|boxplot, histogram, density plot|"
   ]
  },
  {
   "cell_type": "markdown",
   "metadata": {},
   "source": [
    "## Exercise 8.2 - sample mean and sample variance of a frequency table\n",
    "\n",
    "Consider the formulas for the sample mean $\\overline{x}$, the sample variance $s^2$ and the standard deviation $s$. How should these formulas be adapted to calculate these values when we are dealing with a frequency table? A frequency table gives an overview of how often each different value (of a qualitative variable) occurs in the sample.\n",
    "\n",
    "Apply your formula to the data in the table below:\n",
    "\n",
    "| Pins $s$ | Frequency $f_x$ |\n",
    "| :------: | :-------------: |\n",
    "|    0     |        2        |\n",
    "|    1     |        1        |\n",
    "|    2     |        2        |\n",
    "|    3     |        0        |\n",
    "|    4     |        2        |\n",
    "|    5     |        4        |\n",
    "|    6     |        9        |\n",
    "|    7     |       11        |\n",
    "|    8     |       13        |\n",
    "|    9     |        8        |\n",
    "|    10    |        8        |\n",
    "\n",
    "*While playing a skittles game, the number of pins that were knocked over with each throw is recorded. For each possible score x, the number of times this score was obtained during a throw was recorded.*\n",
    "\n",
    "**Results (for your convenience):** $n = 60$, mean = 7, variance ≈ 5.83, standard deviation ≈ 2.41"
   ]
  },
  {
   "cell_type": "markdown",
   "metadata": {},
   "source": [
    "$$\n",
    "\\overline{x} = \\frac{1}{n}\\sum_{i=1}^{n} x_i = \\frac{1}{n} \\sum_{i=0}^{10} f_{x_i} \\cdot s_i\n",
    "$$"
   ]
  },
  {
   "cell_type": "code",
   "execution_count": 9,
   "metadata": {},
   "outputs": [],
   "source": [
    "s = [i for i in range(0, 11)]\n",
    "f_x = [2, 1, 2, 0, 2, 4, 8, 11, 13, 8, 8]\n"
   ]
  },
  {
   "cell_type": "code",
   "execution_count": null,
   "metadata": {},
   "outputs": [
    {
     "name": "stdout",
     "output_type": "stream",
     "text": [
      "Mean: 7.016949152542373\n"
     ]
    }
   ],
   "source": [
    "mean = 0\n",
    "for i in range(len(s)):\n",
    "    mean += s[i] * f_x[i]\n",
    "    \n",
    "mean /= sum(f_x)\n",
    "print(f\"Mean: {mean}\")"
   ]
  },
  {
   "cell_type": "markdown",
   "metadata": {},
   "source": [
    "$$\n",
    "\\text{variance} = \\frac{1}{n-1}\\sum_{i=1}^n\\left(x_i - \\overline x\\right)^2 = \\frac{1}{n-1} \\sum_{i=0}^{10} f_{x_i} \\left(s_i - \\overline x\\right)^2\n",
    "$$"
   ]
  },
  {
   "cell_type": "code",
   "execution_count": 25,
   "metadata": {},
   "outputs": [
    {
     "name": "stdout",
     "output_type": "stream",
     "text": [
      "Variance: 5.91\n"
     ]
    }
   ],
   "source": [
    "variance = 0\n",
    "for i in range(len(s)):\n",
    "    variance += f_x[i] * pow(s[i] - mean, 2)\n",
    "\n",
    "variance /= sum(f_x) - 1\n",
    "print(f\"Variance: {variance:.2f}\")"
   ]
  },
  {
   "cell_type": "code",
   "execution_count": 24,
   "metadata": {},
   "outputs": [
    {
     "name": "stdout",
     "output_type": "stream",
     "text": [
      "Standard Deviation: 2.41\n"
     ]
    }
   ],
   "source": [
    "std_dev = np.sqrt(variance)\n",
    "print(f\"Standard Deviation: {std_dev:.2f}\")"
   ]
  },
  {
   "attachments": {},
   "cell_type": "markdown",
   "metadata": {},
   "source": [
    "## Exercise 8.3 - formula for sample variance\n",
    "\n",
    "In the formula for the sample variance, the difference between the measurement values and the mean is squared. Why? Couldn't we devise a simpler formula that is an equally good measure of the dispersion of a dataset? Here are three proposals (the third one is the \"real\" formula):\n",
    "\n",
    "1. $s_{1}^{2} = \\frac{1}{n-1} \\sum_{i=1}^{n} (\\overline{x} - x_i)$\n",
    "2. $s_{2}^{2} = \\frac{1}{n-1} \\sum_{i=1}^{n} \\left| \\overline{x} - x_i\\right|$\n",
    "3. $s_{3}^{2} = \\frac{1}{n-1} \\sum_{i=1}^{n} (\\overline{x} - x_i)^{2}$\n",
    "\n",
    "Apply each formula to the two data sets below. By comparing the results, you should be able to decide whether the formulas are suitable as a dispersion measure.\n",
    "\n",
    "- $X = \\left\\{ 4,4,-4,-4 \\right\\}$\n",
    "- $Y = \\left\\{ 7,1,-6,-2 \\right\\}$"
   ]
  },
  {
   "cell_type": "code",
   "execution_count": 27,
   "metadata": {},
   "outputs": [],
   "source": [
    "X = [4, 4, -4, -4]\n",
    "Y = [7, 1, -6, -2]"
   ]
  },
  {
   "cell_type": "code",
   "execution_count": 40,
   "metadata": {},
   "outputs": [],
   "source": [
    "def s_var(a):\n",
    "    n = len(a)\n",
    "    mean = np.mean(a)\n",
    "    result = 0\n",
    "    for elem in a:\n",
    "        result += pow(elem - mean, 2)\n",
    "    result /= n - 1\n",
    "    return result\n",
    "\n",
    "def s_one(a):\n",
    "    n = len(a)\n",
    "    mean = np.mean(a)\n",
    "    result = 0\n",
    "    for elem in a:\n",
    "        result += mean - elem\n",
    "    result /= n - 1\n",
    "    return result\n",
    "\n",
    "def s_two(a):\n",
    "    n = len(a)\n",
    "    mean = np.mean(a)\n",
    "    result = 0\n",
    "    for elem in a:\n",
    "        result += abs(mean - elem)\n",
    "    result /= n - 1\n",
    "    return result\n",
    "\n",
    "def s_three(a):\n",
    "    n = len(a)\n",
    "    mean = np.mean(a)\n",
    "    result = 0\n",
    "    for elem in a:\n",
    "        result += pow(mean - elem, 2)\n",
    "    result /= n - 1\n",
    "    return result\n"
   ]
  },
  {
   "cell_type": "code",
   "execution_count": 42,
   "metadata": {},
   "outputs": [
    {
     "name": "stdout",
     "output_type": "stream",
     "text": [
      "21.333333333333332 30.0\n",
      "0.0 0.0\n",
      "5.333333333333333 5.333333333333333\n",
      "21.333333333333332 30.0\n"
     ]
    }
   ],
   "source": [
    "print(s_var(X), s_var(Y))\n",
    "print(s_one(X), s_one(Y))\n",
    "print(s_two(X), s_two(Y))\n",
    "print(s_three(X), s_three(Y))"
   ]
  },
  {
   "cell_type": "markdown",
   "metadata": {},
   "source": [
    "- $s_1^1$ is not a valid alternative since it give variance 0 for both datasets. This would imply that all values are the same, which isn't true.\n",
    "- $s_2^2$ is not a valid alternative since it gives the sale result for $X$ as for $Y$. Which would imply that they have the same dispersion, but de distance between the values in $Y$ is definitely larger than the idstance between the elements of $X$\n",
    "- $s_3^1$ is a valid alternative since changing the position of $x_i$ and $\\overline x$ doesn't do anything if the results are still squared. $(a-b)^2 = a^2 -2ab + b^2 = b^2 - 2ba + b^2 = (b-a)^2$ "
   ]
  },
  {
   "attachments": {},
   "cell_type": "markdown",
   "metadata": {},
   "source": [
    "## Exercise 8.4 - data visualisation hall of shame\n",
    "\n",
    "Look for examples of bad graphs in news reports, articles, interest group publications, etc.\n",
    "\n",
    "Why is the chosen graph \"bad\"? What mistakes are being made? What changes should be made to correct the graph? Who will find the most ridiculous example of a bad graph within the class group?"
   ]
  }
 ],
 "metadata": {
  "kernelspec": {
   "display_name": ".venv",
   "language": "python",
   "name": "python3"
  },
  "language_info": {
   "codemirror_mode": {
    "name": "ipython",
    "version": 3
   },
   "file_extension": ".py",
   "mimetype": "text/x-python",
   "name": "python",
   "nbconvert_exporter": "python",
   "pygments_lexer": "ipython3",
   "version": "3.13.3"
  },
  "orig_nbformat": 4
 },
 "nbformat": 4,
 "nbformat_minor": 2
}

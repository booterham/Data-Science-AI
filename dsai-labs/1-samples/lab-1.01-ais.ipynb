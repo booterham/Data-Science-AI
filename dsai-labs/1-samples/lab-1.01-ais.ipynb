{
 "cells": [
  {
   "cell_type": "markdown",
   "metadata": {},
   "source": [
    "# Lab 1.01 - Australian Athletes (ais)\n",
    "\n",
    "In the Python cell below this one, paste all the imports you need for data analysis from the code examples (Numpy, Pandas, etc.)."
   ]
  },
  {
   "cell_type": "code",
   "metadata": {
    "ExecuteTime": {
     "end_time": "2024-09-24T12:38:32.801688Z",
     "start_time": "2024-09-24T12:38:32.798491Z"
    }
   },
   "source": "import pandas as pd",
   "outputs": [],
   "execution_count": 53
  },
  {
   "cell_type": "markdown",
   "metadata": {},
   "source": [
    "Declare a variable `ais` and use it to import the dataset from the CSV-file `ais.csv` in [the directory `data/`](https://github.com/HoGentTIN/dsai-en-labs/tree/main/data) of the [Github repository](https://github.com/HoGentTIN/dsai-en-labs/) for the lab assignments. You can import a dataset with a URL pointing to the raw contents of the CSV-file in the Github repository (see the code example!).\n",
    "\n",
    "This dataset contains 202 observations of Australian athletes with a variety of blood values. You can find the codebook (i.e., the explanation of what each variable/column in the dataset means) in [data/ais.md](https://github.com/HoGentTIN/dsai-en-labs/blob/main/data/ais.md). Show the first few observations of this sample."
   ]
  },
  {
   "cell_type": "code",
   "metadata": {
    "ExecuteTime": {
     "end_time": "2024-09-24T12:38:32.856647Z",
     "start_time": "2024-09-24T12:38:32.850470Z"
    }
   },
   "source": [
    "# import csv file\n",
    "ais = pd.read_csv('../data/ais.csv')\n",
    "# check length, should be 202\n",
    "print(len(ais))"
   ],
   "outputs": [
    {
     "name": "stdout",
     "output_type": "stream",
     "text": [
      "202\n"
     ]
    }
   ],
   "execution_count": 54
  },
  {
   "cell_type": "markdown",
   "metadata": {},
   "source": [
    "Get general information about this dataset:\n",
    "\n",
    "- How many rows and columns does the dataset have?\n",
    "- Show general information about each variable, specifically the number of empty fields and the type of each variable (e.g., int64, float64, object)\n",
    "- How many columns of each type are there?\n",
    "- What is the measurement level (nominal, ordinal, interval, ratio) of each variable?"
   ]
  },
  {
   "cell_type": "code",
   "metadata": {
    "ExecuteTime": {
     "end_time": "2024-09-24T12:38:32.927232Z",
     "start_time": "2024-09-24T12:38:32.922864Z"
    }
   },
   "source": [
    "# rows\n",
    "print(\"rows =\", len(ais))\n",
    "# columns\n",
    "print(\"columns =\", len(ais.columns))\n",
    "# general info about each variable & how many columns of each type\n",
    "print(ais.info())\n",
    "# measurement level of each variable, idk of we dit kunnen krijgen gewoon? -- QUESTION"
   ],
   "outputs": [
    {
     "name": "stdout",
     "output_type": "stream",
     "text": [
      "rows = 202\n",
      "columns = 14\n",
      "<class 'pandas.core.frame.DataFrame'>\n",
      "RangeIndex: 202 entries, 0 to 201\n",
      "Data columns (total 14 columns):\n",
      " #   Column  Non-Null Count  Dtype  \n",
      "---  ------  --------------  -----  \n",
      " 0   id      202 non-null    int64  \n",
      " 1   rcc     202 non-null    float64\n",
      " 2   wcc     202 non-null    float64\n",
      " 3   hc      202 non-null    float64\n",
      " 4   hg      202 non-null    float64\n",
      " 5   ferr    202 non-null    int64  \n",
      " 6   bmi     202 non-null    float64\n",
      " 7   ssf     202 non-null    float64\n",
      " 8   pcBfat  202 non-null    float64\n",
      " 9   lbm     202 non-null    float64\n",
      " 10  ht      202 non-null    float64\n",
      " 11  wt      202 non-null    float64\n",
      " 12  sex     202 non-null    object \n",
      " 13  sport   202 non-null    object \n",
      "dtypes: float64(10), int64(2), object(2)\n",
      "memory usage: 22.2+ KB\n",
      "None\n"
     ]
    }
   ],
   "execution_count": 55
  },
  {
   "cell_type": "markdown",
   "metadata": {},
   "source": [
    "The column \"id\" is not an actual variable, but an index. Mark it as such."
   ]
  },
  {
   "metadata": {
    "ExecuteTime": {
     "end_time": "2024-09-24T12:38:32.983823Z",
     "start_time": "2024-09-24T12:38:32.975946Z"
    }
   },
   "cell_type": "code",
   "source": [
    "ais.set_index(['id'], inplace=True)\n",
    "ais.info()"
   ],
   "outputs": [
    {
     "name": "stdout",
     "output_type": "stream",
     "text": [
      "<class 'pandas.core.frame.DataFrame'>\n",
      "Index: 202 entries, 1 to 202\n",
      "Data columns (total 13 columns):\n",
      " #   Column  Non-Null Count  Dtype  \n",
      "---  ------  --------------  -----  \n",
      " 0   rcc     202 non-null    float64\n",
      " 1   wcc     202 non-null    float64\n",
      " 2   hc      202 non-null    float64\n",
      " 3   hg      202 non-null    float64\n",
      " 4   ferr    202 non-null    int64  \n",
      " 5   bmi     202 non-null    float64\n",
      " 6   ssf     202 non-null    float64\n",
      " 7   pcBfat  202 non-null    float64\n",
      " 8   lbm     202 non-null    float64\n",
      " 9   ht      202 non-null    float64\n",
      " 10  wt      202 non-null    float64\n",
      " 11  sex     202 non-null    object \n",
      " 12  sport   202 non-null    object \n",
      "dtypes: float64(10), int64(1), object(2)\n",
      "memory usage: 22.1+ KB\n"
     ]
    }
   ],
   "execution_count": 56
  },
  {
   "cell_type": "markdown",
   "metadata": {},
   "source": [
    "The variables that are now considered \"object\" are qualitative variables. Change the type of each of these variables to \"category\". For ordinal variables, also define a type and impose an order. Verify that the conversion was successful by requesting info about the types again."
   ]
  },
  {
   "cell_type": "code",
   "metadata": {
    "ExecuteTime": {
     "end_time": "2024-09-24T12:38:33.100548Z",
     "start_time": "2024-09-24T12:38:33.095038Z"
    }
   },
   "source": [
    "# convert object to category\n",
    "ais.sport = ais.sport.astype('category')\n",
    "ais.sex = ais.sex.astype('category')\n",
    "\n",
    "# convert necessary variables to ordinal\n",
    "# No ordinal variables as far as I can tell? -- QUESTION"
   ],
   "outputs": [],
   "execution_count": 57
  },
  {
   "cell_type": "markdown",
   "metadata": {},
   "source": [
    "Describe the columns `ferr`, `bmi`, `sex` and `sport` and the unique values in each of these columns. Do you recognize the characteristics of qualitative and quantitative variables in the result?"
   ]
  },
  {
   "cell_type": "code",
   "metadata": {
    "ExecuteTime": {
     "end_time": "2024-09-24T12:39:12.249497Z",
     "start_time": "2024-09-24T12:39:12.245471Z"
    }
   },
   "source": [
    "# ferr - plasma ferritins, ng\n",
    "print(\"ferr:\\n\", ais.ferr.unique())\n",
    "# a ratio. Quantitative woth absolute zero"
   ],
   "outputs": [
    {
     "name": "stdout",
     "output_type": "stream",
     "text": [
      "ferr:\n",
      " [ 60  68  21  69  29  42  73  44  41  38  26  30  48  43  34  53  59  40\n",
      "  92  77  71  37  85  64  19  39  13  20  22  78 109 102 107  58 127  86\n",
      "  50  33  51  82  25  27 115 124  54 164  36  62  90  12  45  16  46  57\n",
      "  88 182  80  66  63  97  55  76  93 155  99  35 176 177 130 125 150  89\n",
      " 183  84  70 118  61  72  91 110  49   8 106  32 103 101  56  74  87 139\n",
      "  67 132 212  94 213 122 184 220 191 189 141 126 234 156 117  52 133 214\n",
      " 143  65 233]\n"
     ]
    }
   ],
   "execution_count": 58
  },
  {
   "metadata": {
    "ExecuteTime": {
     "end_time": "2024-09-24T12:42:58.622867Z",
     "start_time": "2024-09-24T12:42:58.617707Z"
    }
   },
   "cell_type": "code",
   "source": [
    "# bmi - body mass index, kg\n",
    "print(\"bmi:\\n\", ais.bmi.unique())\n",
    "# Ratio, there is a zero"
   ],
   "outputs": [
    {
     "name": "stdout",
     "output_type": "stream",
     "text": [
      "bmi:\n",
      " [20.56 20.67 21.86 21.88 18.96 21.04 21.69 20.62 22.64 19.44 25.75 21.2\n",
      " 22.03 25.44 22.63 22.27 21.27 23.47 23.19 23.17 24.54 22.96 19.76 23.36\n",
      " 22.67 24.24 24.21 20.46 20.81 20.17 23.06 24.4  23.97 22.62 19.16 21.15\n",
      " 21.4  21.03 21.77 21.38 21.47 24.45 22.8  23.58 20.06 23.01 24.64 18.26\n",
      " 24.47 23.99 26.24 20.04 25.72 25.64 19.87 23.35 22.42 20.42 22.13 25.17\n",
      " 23.72 21.28 20.87 19.   22.04 20.12 21.35 28.57 26.95 28.13 26.85 25.27\n",
      " 31.93 16.75 19.54 22.76 22.35 20.77 19.37 22.37 17.54 19.06 20.3  20.15\n",
      " 25.36 22.12 21.25 20.53 17.06 18.29 18.37 18.93 17.79 17.05 20.31 22.46\n",
      " 23.88 23.68 23.15 22.32 24.02 23.29 25.11 22.81 26.25 22.52 26.73 23.57\n",
      " 25.84 24.06 23.85 25.09 23.84 25.31 19.69 26.07 25.5  23.69 26.79 25.61\n",
      " 25.06 24.93 20.69 25.93 25.38 22.68 22.44 22.57 19.81 21.19 20.39 21.12\n",
      " 21.89 29.97 27.39 23.11 21.75 20.89 22.83 22.02 20.07 21.24 19.63 21.65\n",
      " 23.25 32.52 22.59 30.18 34.42 24.81 21.68 23.12 20.76 23.13 22.28 23.55\n",
      " 19.85 26.51 24.78 33.73 23.31 24.51 25.37 23.67 24.28 25.82 21.93 23.38\n",
      " 23.07 25.21 22.93 26.86 21.26 25.43 27.79 27.56 23.76 22.01 22.34 21.07]\n"
     ]
    }
   ],
   "execution_count": 61
  },
  {
   "metadata": {
    "ExecuteTime": {
     "end_time": "2024-09-24T12:42:41.941886Z",
     "start_time": "2024-09-24T12:42:41.937391Z"
    }
   },
   "cell_type": "code",
   "source": [
    "# sex\n",
    "print(\"sex:\\n\", ais.sex.unique())\n",
    "# Nominal"
   ],
   "outputs": [
    {
     "name": "stdout",
     "output_type": "stream",
     "text": [
      "sex:\n",
      " ['f', 'm']\n",
      "Categories (2, object): ['f', 'm']\n"
     ]
    }
   ],
   "execution_count": 60
  },
  {
   "metadata": {
    "ExecuteTime": {
     "end_time": "2024-09-24T12:42:39.285468Z",
     "start_time": "2024-09-24T12:42:39.280402Z"
    }
   },
   "cell_type": "code",
   "source": [
    "# sport\n",
    "print(\"sport:\\n\", ais.sport.unique())\n",
    "# Nominal"
   ],
   "outputs": [
    {
     "name": "stdout",
     "output_type": "stream",
     "text": [
      "sport:\n",
      " ['B_Ball', 'Row', 'Netball', 'Swim', 'Field', 'T_400m', 'T_Sprnt', 'Tennis', 'Gym', 'W_Polo']\n",
      "Categories (10, object): ['B_Ball', 'Field', 'Gym', 'Netball', ..., 'T_400m', 'T_Sprnt', 'Tennis', 'W_Polo']\n"
     ]
    }
   ],
   "execution_count": 59
  },
  {
   "cell_type": "markdown",
   "metadata": {},
   "source": [
    "Select following elements from the dataset:\n",
    "\n",
    "- the second row (ids = 2)\n",
    "- rows 4 to 6 (ids = 5 to 7)\n",
    "- Columns 6 to 8 (`ferr`, `bmi`, `ssf`)\n",
    "- the variable `pcBfat` (by name!). There are multiple ways to retrieve this!\n",
    "- all observations for the sport \"Netball\"\n",
    "- just the variable `wt` of the observations for \"Netball\"\n",
    "- which sports are played by athletes with a BMI higher than 26? Also, provide a list of the unique values and a frequency table of how often each sport occurs."
   ]
  },
  {
   "cell_type": "code",
   "metadata": {
    "ExecuteTime": {
     "end_time": "2024-09-24T12:47:19.470599Z",
     "start_time": "2024-09-24T12:47:19.457531Z"
    }
   },
   "source": [
    "# the second row (ids = 2)\n",
    "print(ais.iloc[1])\n",
    "# alternatief\n",
    "print(ais.query('id==2'))"
   ],
   "outputs": [
    {
     "name": "stdout",
     "output_type": "stream",
     "text": [
      "rcc         4.41\n",
      "wcc          8.3\n",
      "hc          38.2\n",
      "hg          12.7\n",
      "ferr          68\n",
      "bmi        20.67\n",
      "ssf        102.8\n",
      "pcBfat      21.3\n",
      "lbm        58.55\n",
      "ht         189.7\n",
      "wt          74.4\n",
      "sex            f\n",
      "sport     B_Ball\n",
      "Name: 2, dtype: object\n",
      "     rcc  wcc    hc    hg  ferr    bmi    ssf  pcBfat    lbm     ht    wt sex  \\\n",
      "id                                                                              \n",
      "2   4.41  8.3  38.2  12.7    68  20.67  102.8    21.3  58.55  189.7  74.4   f   \n",
      "\n",
      "     sport  \n",
      "id          \n",
      "2   B_Ball  \n"
     ]
    }
   ],
   "execution_count": 72
  },
  {
   "metadata": {
    "ExecuteTime": {
     "end_time": "2024-09-24T12:47:39.288955Z",
     "start_time": "2024-09-24T12:47:39.280133Z"
    }
   },
   "cell_type": "code",
   "source": [
    "# rows 4 to 6 (ids = 5 to 7)\n",
    "print(ais.iloc[4:7])"
   ],
   "outputs": [
    {
     "name": "stdout",
     "output_type": "stream",
     "text": [
      "     rcc  wcc    hc    hg  ferr    bmi   ssf  pcBfat    lbm     ht    wt sex  \\\n",
      "id                                                                             \n",
      "5   4.45  6.8  41.5  14.0    29  18.96  80.3   17.64  53.20  184.6  64.6   f   \n",
      "6   4.10  4.4  37.4  12.5    42  21.04  75.2   15.58  53.77  174.0  63.7   f   \n",
      "7   4.31  5.3  39.6  12.8    73  21.69  87.2   19.99  60.17  186.2  75.2   f   \n",
      "\n",
      "     sport  \n",
      "id          \n",
      "5   B_Ball  \n",
      "6   B_Ball  \n",
      "7   B_Ball  \n"
     ]
    }
   ],
   "execution_count": 73
  },
  {
   "metadata": {
    "ExecuteTime": {
     "end_time": "2024-09-24T12:50:13.894371Z",
     "start_time": "2024-09-24T12:50:13.886682Z"
    }
   },
   "cell_type": "code",
   "source": [
    "# Columns 6 to 8 (`ferr`, `bmi`, `ssf`)\n",
    "print(ais[['ferr', 'bmi', 'ssf']])\n",
    "# alternatief\n",
    "print(ais.iloc[:, 4:7]) # gecheckt en dit zijn kolommen 5 tot en met 7 (als we tellen van 1)"
   ],
   "outputs": [
    {
     "name": "stdout",
     "output_type": "stream",
     "text": [
      "     ferr    bmi    ssf\n",
      "id                     \n",
      "1      60  20.56  109.1\n",
      "2      68  20.67  102.8\n",
      "3      21  21.86  104.6\n",
      "4      69  21.88  126.4\n",
      "5      29  18.96   80.3\n",
      "..    ...    ...    ...\n",
      "198    90  27.56   67.2\n",
      "199    38  23.76   56.5\n",
      "200   122  22.01   47.6\n",
      "201   233  22.34   60.4\n",
      "202    32  21.07   34.9\n",
      "\n",
      "[202 rows x 3 columns]\n",
      "     ferr    bmi    ssf\n",
      "id                     \n",
      "1      60  20.56  109.1\n",
      "2      68  20.67  102.8\n",
      "3      21  21.86  104.6\n",
      "4      69  21.88  126.4\n",
      "5      29  18.96   80.3\n",
      "..    ...    ...    ...\n",
      "198    90  27.56   67.2\n",
      "199    38  23.76   56.5\n",
      "200   122  22.01   47.6\n",
      "201   233  22.34   60.4\n",
      "202    32  21.07   34.9\n",
      "\n",
      "[202 rows x 3 columns]\n",
      "      rcc  wcc    hc    hg  ferr    bmi    ssf  pcBfat    lbm     ht    wt  \\\n",
      "id                                                                           \n",
      "1    3.96  7.5  37.5  12.3    60  20.56  109.1   19.75  63.32  195.9  78.9   \n",
      "2    4.41  8.3  38.2  12.7    68  20.67  102.8   21.30  58.55  189.7  74.4   \n",
      "3    4.14  5.0  36.4  11.6    21  21.86  104.6   19.88  55.36  177.8  69.1   \n",
      "4    4.11  5.3  37.3  12.6    69  21.88  126.4   23.66  57.18  185.0  74.9   \n",
      "5    4.45  6.8  41.5  14.0    29  18.96   80.3   17.64  53.20  184.6  64.6   \n",
      "..    ...  ...   ...   ...   ...    ...    ...     ...    ...    ...   ...   \n",
      "198  4.90  7.6  45.6  16.0    90  27.56   67.2   11.79  82.00  183.9  93.2   \n",
      "199  5.66  8.3  50.2  17.7    38  23.76   56.5   10.05  72.00  183.5  80.0   \n",
      "200  5.03  6.4  42.7  14.3   122  22.01   47.6    8.51  68.00  183.1  73.8   \n",
      "201  4.97  8.8  43.0  14.9   233  22.34   60.4   11.50  63.00  178.4  71.1   \n",
      "202  5.38  6.3  46.0  15.7    32  21.07   34.9    6.26  72.00  190.8  76.7   \n",
      "\n",
      "    sex   sport  \n",
      "id               \n",
      "1     f  B_Ball  \n",
      "2     f  B_Ball  \n",
      "3     f  B_Ball  \n",
      "4     f  B_Ball  \n",
      "5     f  B_Ball  \n",
      "..   ..     ...  \n",
      "198   m  W_Polo  \n",
      "199   m  Tennis  \n",
      "200   m  Tennis  \n",
      "201   m  Tennis  \n",
      "202   m  Tennis  \n",
      "\n",
      "[202 rows x 13 columns]\n"
     ]
    }
   ],
   "execution_count": 80
  },
  {
   "metadata": {
    "ExecuteTime": {
     "end_time": "2024-09-24T12:51:38.668477Z",
     "start_time": "2024-09-24T12:51:38.660697Z"
    }
   },
   "cell_type": "code",
   "source": [
    "# the variable `pcBfat` (by name!). There are multiple ways to retrieve this!\n",
    "print(ais['pcBfat'])\n",
    "# alternatief\n",
    "print(ais[['pcBfat']])"
   ],
   "outputs": [
    {
     "name": "stdout",
     "output_type": "stream",
     "text": [
      "id\n",
      "1      19.75\n",
      "2      21.30\n",
      "3      19.88\n",
      "4      23.66\n",
      "5      17.64\n",
      "       ...  \n",
      "198    11.79\n",
      "199    10.05\n",
      "200     8.51\n",
      "201    11.50\n",
      "202     6.26\n",
      "Name: pcBfat, Length: 202, dtype: float64\n",
      "     pcBfat\n",
      "id         \n",
      "1     19.75\n",
      "2     21.30\n",
      "3     19.88\n",
      "4     23.66\n",
      "5     17.64\n",
      "..      ...\n",
      "198   11.79\n",
      "199   10.05\n",
      "200    8.51\n",
      "201   11.50\n",
      "202    6.26\n",
      "\n",
      "[202 rows x 1 columns]\n"
     ]
    }
   ],
   "execution_count": 82
  },
  {
   "metadata": {
    "ExecuteTime": {
     "end_time": "2024-09-24T12:52:02.419660Z",
     "start_time": "2024-09-24T12:52:02.404044Z"
    }
   },
   "cell_type": "code",
   "source": [
    "# all observations for the sport \"Netball\"\n",
    "ais.query('sport==\"Netball\"')"
   ],
   "outputs": [
    {
     "name": "stdout",
     "output_type": "stream",
     "text": [
      "     rcc   wcc    hc    hg  ferr    bmi    ssf  pcBfat    lbm     ht    wt  \\\n",
      "id                                                                           \n",
      "36  4.56  13.3  42.2  13.6    20  19.16   49.0   11.29  53.14  176.8  59.9   \n",
      "37  4.15   6.0  38.0  12.7    59  21.15  110.2   25.26  47.09  172.6  63.0   \n",
      "38  4.16   7.6  37.5  12.3    22  21.40   89.0   19.39  53.44  176.0  66.3   \n",
      "39  4.32   6.4  37.7  12.3    30  21.03   98.3   19.63  48.78  169.9  60.7   \n",
      "40  4.06   5.8  38.7  12.8    78  21.77  122.1   23.11  56.05  183.0  72.9   \n",
      "41  4.12   6.1  36.6  11.8    21  21.38   90.4   16.86  56.45  178.2  67.9   \n",
      "42  4.17   5.0  37.4  12.7   109  21.47  106.9   21.32  53.11  177.3  67.5   \n",
      "43  3.80   6.6  36.5  12.4   102  24.45  156.6   26.57  54.41  174.1  74.1   \n",
      "44  3.96   5.5  36.3  12.4    71  22.63  101.1   17.93  55.97  173.6  68.2   \n",
      "45  4.44   9.7  41.4  14.1    64  22.80  126.4   24.97  51.62  173.7  68.8   \n",
      "46  4.27  10.6  37.7  12.5    68  23.58  114.0   22.62  58.27  178.7  75.3   \n",
      "47  3.90   6.3  35.9  12.1    78  20.06   70.0   15.01  57.28  183.3  67.4   \n",
      "48  4.02   9.1  37.7  12.7   107  23.01   77.0   18.14  57.30  174.4  70.0   \n",
      "49  4.39   9.6  38.3  12.5    39  24.64  148.9   26.78  54.18  173.3  74.0   \n",
      "50  4.52   5.1  38.8  13.1    58  18.26   80.1   17.22  42.96  168.6  51.9   \n",
      "51  4.25  10.7  39.5  13.2   127  24.47  156.6   26.50  54.46  174.0  74.1   \n",
      "52  4.46  10.9  39.7  13.7   102  23.99  115.9   23.01  57.20  176.0  74.3   \n",
      "53  4.40   9.3  40.4  13.6    86  26.24  181.7   30.10  54.38  172.2  77.8   \n",
      "54  4.83   8.4  41.8  13.4    40  20.04   71.6   13.93  57.58  182.7  66.9   \n",
      "55  4.23   6.9  38.3  12.6    50  25.72  143.5   26.65  61.46  180.5  83.8   \n",
      "56  4.24   8.4  37.6  12.5    58  25.64  200.8   35.52  53.46  179.8  82.9   \n",
      "57  3.95   6.6  38.4  12.8    33  19.87   68.9   15.59  54.11  179.6  64.1   \n",
      "58  4.03   8.5  37.7  13.0    51  23.35  103.6   19.61  55.35  171.7  68.8   \n",
      "\n",
      "   sex    sport  \n",
      "id               \n",
      "36   f  Netball  \n",
      "37   f  Netball  \n",
      "38   f  Netball  \n",
      "39   f  Netball  \n",
      "40   f  Netball  \n",
      "41   f  Netball  \n",
      "42   f  Netball  \n",
      "43   f  Netball  \n",
      "44   f  Netball  \n",
      "45   f  Netball  \n",
      "46   f  Netball  \n",
      "47   f  Netball  \n",
      "48   f  Netball  \n",
      "49   f  Netball  \n",
      "50   f  Netball  \n",
      "51   f  Netball  \n",
      "52   f  Netball  \n",
      "53   f  Netball  \n",
      "54   f  Netball  \n",
      "55   f  Netball  \n",
      "56   f  Netball  \n",
      "57   f  Netball  \n",
      "58   f  Netball  \n"
     ]
    }
   ],
   "execution_count": 83
  },
  {
   "metadata": {
    "ExecuteTime": {
     "end_time": "2024-09-24T12:54:10.925245Z",
     "start_time": "2024-09-24T12:54:10.916049Z"
    }
   },
   "cell_type": "code",
   "source": [
    "# just the variable `wt` of the observations for \"Netball\"\n",
    "ais.query('sport==\"Netball\"')['wt']"
   ],
   "outputs": [
    {
     "data": {
      "text/plain": [
       "id\n",
       "36    59.9\n",
       "37    63.0\n",
       "38    66.3\n",
       "39    60.7\n",
       "40    72.9\n",
       "41    67.9\n",
       "42    67.5\n",
       "43    74.1\n",
       "44    68.2\n",
       "45    68.8\n",
       "46    75.3\n",
       "47    67.4\n",
       "48    70.0\n",
       "49    74.0\n",
       "50    51.9\n",
       "51    74.1\n",
       "52    74.3\n",
       "53    77.8\n",
       "54    66.9\n",
       "55    83.8\n",
       "56    82.9\n",
       "57    64.1\n",
       "58    68.8\n",
       "Name: wt, dtype: float64"
      ]
     },
     "execution_count": 86,
     "metadata": {},
     "output_type": "execute_result"
    }
   ],
   "execution_count": 86
  },
  {
   "metadata": {
    "ExecuteTime": {
     "end_time": "2024-09-24T12:56:24.780461Z",
     "start_time": "2024-09-24T12:56:24.770724Z"
    }
   },
   "cell_type": "code",
   "source": [
    "# which sports are played by athletes with a BMI higher than 26? Also, provide a list of the unique values and a frequency table of how often each sport occurs.\n",
    "ais.query('bmi>26')['sport'].value_counts()"
   ],
   "outputs": [
    {
     "data": {
      "text/plain": [
       "sport\n",
       "Field      12\n",
       "W_Polo      3\n",
       "Row         2\n",
       "Swim        2\n",
       "T_Sprnt     1\n",
       "Netball     1\n",
       "B_Ball      0\n",
       "Gym         0\n",
       "T_400m      0\n",
       "Tennis      0\n",
       "Name: count, dtype: int64"
      ]
     },
     "execution_count": 90,
     "metadata": {},
     "output_type": "execute_result"
    }
   ],
   "execution_count": 90
  }
 ],
 "metadata": {
  "language_info": {
   "name": "python"
  },
  "orig_nbformat": 4,
  "kernelspec": {
   "name": "python3",
   "language": "python",
   "display_name": "Python 3 (ipykernel)"
  }
 },
 "nbformat": 4,
 "nbformat_minor": 2
}

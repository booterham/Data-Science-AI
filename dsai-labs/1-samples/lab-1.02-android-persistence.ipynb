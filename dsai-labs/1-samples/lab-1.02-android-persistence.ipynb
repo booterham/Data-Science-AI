{
 "cells": [
  {
   "cell_type": "markdown",
   "metadata": {},
   "source": [
    "# Lab 1.02 - Android Persistence\n",
    "\n",
    "Import all necessary Python libraries and create a variable `android_persistence` to load the dataset [android_persistence_cpu.csv](https://github.com/HoGentTIN/dsai-en-labs/blob/main/data/android_persistence_cpu.csv). See the [code book](https://github.com/HoGentTIN/dsai-en-labs/blob/main/data/android_persistence_cpu.md) for more info on the contents. Note this file is not stored as a regular CSV file! You may need to tweak the parameters of the import function to load the file correctly."
   ]
  },
  {
   "cell_type": "code",
   "metadata": {
    "ExecuteTime": {
     "end_time": "2024-09-24T15:36:47.639485Z",
     "start_time": "2024-09-24T15:36:47.631980Z"
    }
   },
   "source": [
    "import pandas as pd\n",
    "from pandas.api.types import CategoricalDtype\n",
    "\n",
    "apc = pd.read_csv('../data/android_persistence_cpu.csv', delimiter=';')\n",
    "apc['PersistenceType'] = apc['PersistenceType'].astype('category')"
   ],
   "outputs": [],
   "execution_count": 40
  },
  {
   "cell_type": "markdown",
   "metadata": {},
   "source": [
    "Explore the dataset:\n",
    "\n",
    "- How many variables and observations are present in the dataset?\n",
    "  - 3 variables, 300 observations\n",
    "- What is the level of measurement of each variable?\n",
    "  - Time: Interval\n",
    "  - PersistenceType: Nominal\n",
    "  - Datasize: Ordinal\n",
    "    "
   ]
  },
  {
   "metadata": {
    "ExecuteTime": {
     "end_time": "2024-09-24T15:36:47.656044Z",
     "start_time": "2024-09-24T15:36:47.649243Z"
    }
   },
   "cell_type": "code",
   "source": "apc.info()  ",
   "outputs": [
    {
     "name": "stdout",
     "output_type": "stream",
     "text": [
      "<class 'pandas.core.frame.DataFrame'>\n",
      "RangeIndex: 300 entries, 0 to 299\n",
      "Data columns (total 3 columns):\n",
      " #   Column           Non-Null Count  Dtype   \n",
      "---  ------           --------------  -----   \n",
      " 0   Time             300 non-null    float64 \n",
      " 1   PersistenceType  300 non-null    category\n",
      " 2   DataSize         300 non-null    object  \n",
      "dtypes: category(1), float64(1), object(1)\n",
      "memory usage: 5.3+ KB\n"
     ]
    }
   ],
   "execution_count": 41
  },
  {
   "metadata": {},
   "cell_type": "markdown",
   "source": "- Perform the conversion of the qualitative variables to the appropriate type (and specify the order of ordinal variables)."
  },
  {
   "metadata": {
    "ExecuteTime": {
     "end_time": "2024-09-24T15:36:50.413059Z",
     "start_time": "2024-09-24T15:36:50.407352Z"
    }
   },
   "cell_type": "code",
   "source": [
    "# check the categories\n",
    "print(apc.DataSize.unique())\n",
    "\n",
    "# \n",
    "datasize_type = CategoricalDtype(categories=['Small', 'Medium', 'Large'], ordered=True)\n",
    "apc.DataSize = apc.DataSize.astype(datasize_type)\n",
    "print(apc.DataSize.describe())"
   ],
   "outputs": [
    {
     "name": "stdout",
     "output_type": "stream",
     "text": [
      "['Small' 'Medium' 'Large']\n",
      "count       300\n",
      "unique        3\n",
      "top       Small\n",
      "freq        120\n",
      "Name: DataSize, dtype: object\n"
     ]
    }
   ],
   "execution_count": 42
  },
  {
   "metadata": {},
   "cell_type": "markdown",
   "source": [
    "\n",
    "- List the data types in the dataset."
   ]
  },
  {
   "cell_type": "markdown",
   "metadata": {},
   "source": [
    "Describe each variable."
   ]
  },
  {
   "cell_type": "code",
   "metadata": {
    "ExecuteTime": {
     "end_time": "2024-09-24T15:38:48.436186Z",
     "start_time": "2024-09-24T15:38:48.426814Z"
    }
   },
   "source": [
    "print('DataSize\\n', apc.DataSize.describe())\n",
    "print('PersistenceType\\n', apc.PersistenceType.describe())\n",
    "print('Time\\n', apc.Time.describe())"
   ],
   "outputs": [
    {
     "name": "stdout",
     "output_type": "stream",
     "text": [
      "DataSize\n",
      " count       300\n",
      "unique        3\n",
      "top       Small\n",
      "freq        120\n",
      "Name: DataSize, dtype: object\n",
      "PersistenceType\n",
      " count          300\n",
      "unique           4\n",
      "top       GreenDAO\n",
      "freq            90\n",
      "Name: PersistenceType, dtype: object\n",
      "Time\n",
      " count    300.000000\n",
      "mean       6.230833\n",
      "std        4.229599\n",
      "min        1.090000\n",
      "25%        1.790000\n",
      "50%        6.185000\n",
      "75%       10.662500\n",
      "max       13.560000\n",
      "Name: Time, dtype: float64\n"
     ]
    }
   ],
   "execution_count": 46
  },
  {
   "cell_type": "markdown",
   "metadata": {},
   "source": [
    "What unique values are there for the variables `PersistenceType` and `DataSize`? How often does each value occur?"
   ]
  },
  {
   "cell_type": "code",
   "metadata": {
    "ExecuteTime": {
     "end_time": "2024-09-24T15:40:21.923734Z",
     "start_time": "2024-09-24T15:40:21.917064Z"
    }
   },
   "source": "apc.PersistenceType.value_counts()",
   "outputs": [
    {
     "data": {
      "text/plain": [
       "PersistenceType\n",
       "GreenDAO             90\n",
       "Realm                90\n",
       "SQLLite              90\n",
       "Sharedpreferences    30\n",
       "Name: count, dtype: int64"
      ]
     },
     "execution_count": 52,
     "metadata": {},
     "output_type": "execute_result"
    }
   ],
   "execution_count": 52
  },
  {
   "metadata": {
    "ExecuteTime": {
     "end_time": "2024-09-24T15:40:26.749620Z",
     "start_time": "2024-09-24T15:40:26.741672Z"
    }
   },
   "cell_type": "code",
   "source": "apc.DataSize.value_counts()",
   "outputs": [
    {
     "data": {
      "text/plain": [
       "DataSize\n",
       "Small     120\n",
       "Medium     90\n",
       "Large      90\n",
       "Name: count, dtype: int64"
      ]
     },
     "execution_count": 53,
     "metadata": {},
     "output_type": "execute_result"
    }
   ],
   "execution_count": 53
  },
  {
   "cell_type": "markdown",
   "metadata": {},
   "source": [
    "In this dataset, it is especially interesting to know how often each unique combination of `PersistenceType` and `DataSize` occurs. Figure out how to use the Pandas function `crosstab()` to create a so-called contingency table for these variables. By the way, this concept will return in Module 4 (examining the relationship between 2 qualitative variables)."
   ]
  },
  {
   "cell_type": "code",
   "metadata": {
    "ExecuteTime": {
     "end_time": "2024-09-24T15:44:56.350216Z",
     "start_time": "2024-09-24T15:44:56.343617Z"
    }
   },
   "source": "print(apc[['DataSize', 'PersistenceType']].value_counts()) # -- QUESTION",
   "outputs": [
    {
     "name": "stdout",
     "output_type": "stream",
     "text": [
      "DataSize  PersistenceType  \n",
      "Small     GreenDAO             30\n",
      "          Realm                30\n",
      "          SQLLite              30\n",
      "          Sharedpreferences    30\n",
      "Medium    GreenDAO             30\n",
      "          Realm                30\n",
      "          SQLLite              30\n",
      "Large     GreenDAO             30\n",
      "          Realm                30\n",
      "          SQLLite              30\n",
      "Name: count, dtype: int64\n"
     ]
    }
   ],
   "execution_count": 59
  },
  {
   "metadata": {
    "ExecuteTime": {
     "end_time": "2024-09-24T15:44:40.538845Z",
     "start_time": "2024-09-24T15:44:40.530136Z"
    }
   },
   "cell_type": "code",
   "source": "print(pd.crosstab(apc['DataSize'], apc['PersistenceType']))",
   "outputs": [
    {
     "name": "stdout",
     "output_type": "stream",
     "text": [
      "PersistenceType  GreenDAO  Realm  SQLLite  Sharedpreferences\n",
      "DataSize                                                    \n",
      "Small                  30     30       30                 30\n",
      "Medium                 30     30       30                  0\n",
      "Large                  30     30       30                  0\n"
     ]
    }
   ],
   "execution_count": 58
  }
 ],
 "metadata": {
  "language_info": {
   "name": "python"
  },
  "orig_nbformat": 4,
  "kernelspec": {
   "name": "python3",
   "language": "python",
   "display_name": "Python 3 (ipykernel)"
  }
 },
 "nbformat": 4,
 "nbformat_minor": 2
}
